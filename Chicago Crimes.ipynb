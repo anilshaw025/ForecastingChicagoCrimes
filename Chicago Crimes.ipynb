{
 "cells": [
  {
   "cell_type": "code",
   "execution_count": 64,
   "id": "013526dd",
   "metadata": {},
   "outputs": [],
   "source": [
    "import pandas as pd\n",
    "import matplotlib.pyplot as plt\n",
    "import seaborn as sns\n",
    "from prophet import Prophet\n",
    "from datetime import datetime\n",
    "%matplotlib inline\n",
    "from matplotlib.pylab import rcParams\n",
    "\n",
    "from statsmodels.tsa.stattools import adfuller\n",
    "\n",
    "import pmdarima as pm\n",
    "from statsmodels.graphics.tsaplots import plot_predict"
   ]
  },
  {
   "cell_type": "code",
   "execution_count": 65,
   "id": "17fdeb60",
   "metadata": {},
   "outputs": [
    {
     "name": "stderr",
     "output_type": "stream",
     "text": [
      "b'Skipping line 1513591: expected 23 fields, saw 24\\n'\n",
      "C:\\Users\\anils\\anaconda3\\lib\\site-packages\\IPython\\core\\interactiveshell.py:3165: DtypeWarning: Columns (17,20) have mixed types.Specify dtype option on import or set low_memory=False.\n",
      "  has_raised = await self.run_ast_nodes(code_ast.body, cell_name,\n",
      "b'Skipping line 533719: expected 23 fields, saw 24\\n'\n",
      "b'Skipping line 1149094: expected 23 fields, saw 41\\n'\n"
     ]
    }
   ],
   "source": [
    "data0 = pd.read_csv(\"Chicago_Crimes_2001_to_2004.csv\",error_bad_lines=False)\n",
    "data1 = pd.read_csv(\"Chicago_Crimes_2005_to_2007.csv\",error_bad_lines=False)\n",
    "data2 = pd.read_csv(\"Chicago_Crimes_2008_to_2011.csv\",error_bad_lines=False)\n",
    "data3 = pd.read_csv(\"Chicago_Crimes_2012_to_2017.csv\",error_bad_lines=False)"
   ]
  },
  {
   "cell_type": "code",
   "execution_count": 66,
   "id": "fd7281ac",
   "metadata": {},
   "outputs": [],
   "source": [
    "data = pd.concat([data0,data1,data2,data3])"
   ]
  },
  {
   "cell_type": "code",
   "execution_count": 67,
   "id": "d7927f01",
   "metadata": {},
   "outputs": [
    {
     "data": {
      "text/html": [
       "<div>\n",
       "<style scoped>\n",
       "    .dataframe tbody tr th:only-of-type {\n",
       "        vertical-align: middle;\n",
       "    }\n",
       "\n",
       "    .dataframe tbody tr th {\n",
       "        vertical-align: top;\n",
       "    }\n",
       "\n",
       "    .dataframe thead th {\n",
       "        text-align: right;\n",
       "    }\n",
       "</style>\n",
       "<table border=\"1\" class=\"dataframe\">\n",
       "  <thead>\n",
       "    <tr style=\"text-align: right;\">\n",
       "      <th></th>\n",
       "      <th>Unnamed: 0</th>\n",
       "      <th>ID</th>\n",
       "      <th>Case Number</th>\n",
       "      <th>Date</th>\n",
       "      <th>Block</th>\n",
       "      <th>IUCR</th>\n",
       "      <th>Primary Type</th>\n",
       "      <th>Description</th>\n",
       "      <th>Location Description</th>\n",
       "      <th>Arrest</th>\n",
       "      <th>...</th>\n",
       "      <th>Ward</th>\n",
       "      <th>Community Area</th>\n",
       "      <th>FBI Code</th>\n",
       "      <th>X Coordinate</th>\n",
       "      <th>Y Coordinate</th>\n",
       "      <th>Year</th>\n",
       "      <th>Updated On</th>\n",
       "      <th>Latitude</th>\n",
       "      <th>Longitude</th>\n",
       "      <th>Location</th>\n",
       "    </tr>\n",
       "  </thead>\n",
       "  <tbody>\n",
       "    <tr>\n",
       "      <th>0</th>\n",
       "      <td>879</td>\n",
       "      <td>4786321</td>\n",
       "      <td>HM399414</td>\n",
       "      <td>01/01/2004 12:01:00 AM</td>\n",
       "      <td>082XX S COLES AVE</td>\n",
       "      <td>0840</td>\n",
       "      <td>THEFT</td>\n",
       "      <td>FINANCIAL ID THEFT: OVER $300</td>\n",
       "      <td>RESIDENCE</td>\n",
       "      <td>False</td>\n",
       "      <td>...</td>\n",
       "      <td>7.0</td>\n",
       "      <td>46.0</td>\n",
       "      <td>06</td>\n",
       "      <td>NaN</td>\n",
       "      <td>NaN</td>\n",
       "      <td>2004.0</td>\n",
       "      <td>08/17/2015 03:03:40 PM</td>\n",
       "      <td>NaN</td>\n",
       "      <td>NaN</td>\n",
       "      <td>NaN</td>\n",
       "    </tr>\n",
       "    <tr>\n",
       "      <th>1</th>\n",
       "      <td>2544</td>\n",
       "      <td>4676906</td>\n",
       "      <td>HM278933</td>\n",
       "      <td>03/01/2003 12:00:00 AM</td>\n",
       "      <td>004XX W 42ND PL</td>\n",
       "      <td>2825</td>\n",
       "      <td>OTHER OFFENSE</td>\n",
       "      <td>HARASSMENT BY TELEPHONE</td>\n",
       "      <td>RESIDENCE</td>\n",
       "      <td>False</td>\n",
       "      <td>...</td>\n",
       "      <td>11.0</td>\n",
       "      <td>61.0</td>\n",
       "      <td>26</td>\n",
       "      <td>1173974.0</td>\n",
       "      <td>1876757.0</td>\n",
       "      <td>2003.0</td>\n",
       "      <td>04/15/2016 08:55:02 AM</td>\n",
       "      <td>41.817229</td>\n",
       "      <td>-87.637328</td>\n",
       "      <td>(41.817229156, -87.637328162)</td>\n",
       "    </tr>\n",
       "    <tr>\n",
       "      <th>2</th>\n",
       "      <td>2919</td>\n",
       "      <td>4789749</td>\n",
       "      <td>HM402220</td>\n",
       "      <td>06/20/2004 11:00:00 AM</td>\n",
       "      <td>025XX N KIMBALL AVE</td>\n",
       "      <td>1752</td>\n",
       "      <td>OFFENSE INVOLVING CHILDREN</td>\n",
       "      <td>AGG CRIM SEX ABUSE FAM MEMBER</td>\n",
       "      <td>RESIDENCE</td>\n",
       "      <td>False</td>\n",
       "      <td>...</td>\n",
       "      <td>35.0</td>\n",
       "      <td>22.0</td>\n",
       "      <td>20</td>\n",
       "      <td>NaN</td>\n",
       "      <td>NaN</td>\n",
       "      <td>2004.0</td>\n",
       "      <td>08/17/2015 03:03:40 PM</td>\n",
       "      <td>NaN</td>\n",
       "      <td>NaN</td>\n",
       "      <td>NaN</td>\n",
       "    </tr>\n",
       "    <tr>\n",
       "      <th>3</th>\n",
       "      <td>2927</td>\n",
       "      <td>4789765</td>\n",
       "      <td>HM402058</td>\n",
       "      <td>12/30/2004 08:00:00 PM</td>\n",
       "      <td>045XX W MONTANA ST</td>\n",
       "      <td>0840</td>\n",
       "      <td>THEFT</td>\n",
       "      <td>FINANCIAL ID THEFT: OVER $300</td>\n",
       "      <td>OTHER</td>\n",
       "      <td>False</td>\n",
       "      <td>...</td>\n",
       "      <td>31.0</td>\n",
       "      <td>20.0</td>\n",
       "      <td>06</td>\n",
       "      <td>NaN</td>\n",
       "      <td>NaN</td>\n",
       "      <td>2004.0</td>\n",
       "      <td>08/17/2015 03:03:40 PM</td>\n",
       "      <td>NaN</td>\n",
       "      <td>NaN</td>\n",
       "      <td>NaN</td>\n",
       "    </tr>\n",
       "    <tr>\n",
       "      <th>4</th>\n",
       "      <td>3302</td>\n",
       "      <td>4677901</td>\n",
       "      <td>HM275615</td>\n",
       "      <td>05/01/2003 01:00:00 AM</td>\n",
       "      <td>111XX S NORMAL AVE</td>\n",
       "      <td>0841</td>\n",
       "      <td>THEFT</td>\n",
       "      <td>FINANCIAL ID THEFT:$300 &amp;UNDER</td>\n",
       "      <td>RESIDENCE</td>\n",
       "      <td>False</td>\n",
       "      <td>...</td>\n",
       "      <td>34.0</td>\n",
       "      <td>49.0</td>\n",
       "      <td>06</td>\n",
       "      <td>1174948.0</td>\n",
       "      <td>1831051.0</td>\n",
       "      <td>2003.0</td>\n",
       "      <td>04/15/2016 08:55:02 AM</td>\n",
       "      <td>41.691785</td>\n",
       "      <td>-87.635116</td>\n",
       "      <td>(41.691784636, -87.635115968)</td>\n",
       "    </tr>\n",
       "  </tbody>\n",
       "</table>\n",
       "<p>5 rows × 23 columns</p>\n",
       "</div>"
      ],
      "text/plain": [
       "   Unnamed: 0       ID Case Number                    Date  \\\n",
       "0         879  4786321    HM399414  01/01/2004 12:01:00 AM   \n",
       "1        2544  4676906    HM278933  03/01/2003 12:00:00 AM   \n",
       "2        2919  4789749    HM402220  06/20/2004 11:00:00 AM   \n",
       "3        2927  4789765    HM402058  12/30/2004 08:00:00 PM   \n",
       "4        3302  4677901    HM275615  05/01/2003 01:00:00 AM   \n",
       "\n",
       "                 Block  IUCR                Primary Type  \\\n",
       "0    082XX S COLES AVE  0840                       THEFT   \n",
       "1      004XX W 42ND PL  2825               OTHER OFFENSE   \n",
       "2  025XX N KIMBALL AVE  1752  OFFENSE INVOLVING CHILDREN   \n",
       "3   045XX W MONTANA ST  0840                       THEFT   \n",
       "4   111XX S NORMAL AVE  0841                       THEFT   \n",
       "\n",
       "                      Description Location Description  Arrest  ...  Ward  \\\n",
       "0   FINANCIAL ID THEFT: OVER $300            RESIDENCE   False  ...   7.0   \n",
       "1         HARASSMENT BY TELEPHONE            RESIDENCE   False  ...  11.0   \n",
       "2   AGG CRIM SEX ABUSE FAM MEMBER            RESIDENCE   False  ...  35.0   \n",
       "3   FINANCIAL ID THEFT: OVER $300                OTHER   False  ...  31.0   \n",
       "4  FINANCIAL ID THEFT:$300 &UNDER            RESIDENCE   False  ...  34.0   \n",
       "\n",
       "   Community Area  FBI Code  X Coordinate  Y Coordinate    Year  \\\n",
       "0            46.0        06           NaN           NaN  2004.0   \n",
       "1            61.0        26     1173974.0     1876757.0  2003.0   \n",
       "2            22.0        20           NaN           NaN  2004.0   \n",
       "3            20.0        06           NaN           NaN  2004.0   \n",
       "4            49.0        06     1174948.0     1831051.0  2003.0   \n",
       "\n",
       "               Updated On   Latitude  Longitude                       Location  \n",
       "0  08/17/2015 03:03:40 PM        NaN        NaN                            NaN  \n",
       "1  04/15/2016 08:55:02 AM  41.817229 -87.637328  (41.817229156, -87.637328162)  \n",
       "2  08/17/2015 03:03:40 PM        NaN        NaN                            NaN  \n",
       "3  08/17/2015 03:03:40 PM        NaN        NaN                            NaN  \n",
       "4  04/15/2016 08:55:02 AM  41.691785 -87.635116  (41.691784636, -87.635115968)  \n",
       "\n",
       "[5 rows x 23 columns]"
      ]
     },
     "execution_count": 67,
     "metadata": {},
     "output_type": "execute_result"
    }
   ],
   "source": [
    "data.head()"
   ]
  },
  {
   "cell_type": "code",
   "execution_count": 68,
   "id": "0e41960d",
   "metadata": {},
   "outputs": [
    {
     "data": {
      "text/plain": [
       "(7941282, 23)"
      ]
     },
     "execution_count": 68,
     "metadata": {},
     "output_type": "execute_result"
    }
   ],
   "source": [
    "data.shape"
   ]
  },
  {
   "cell_type": "code",
   "execution_count": 69,
   "id": "73d725b0",
   "metadata": {},
   "outputs": [
    {
     "name": "stdout",
     "output_type": "stream",
     "text": [
      "<class 'pandas.core.frame.DataFrame'>\n",
      "Int64Index: 7941282 entries, 0 to 1456713\n",
      "Data columns (total 23 columns):\n",
      " #   Column                Dtype  \n",
      "---  ------                -----  \n",
      " 0   Unnamed: 0            int64  \n",
      " 1   ID                    int64  \n",
      " 2   Case Number           object \n",
      " 3   Date                  object \n",
      " 4   Block                 object \n",
      " 5   IUCR                  object \n",
      " 6   Primary Type          object \n",
      " 7   Description           object \n",
      " 8   Location Description  object \n",
      " 9   Arrest                bool   \n",
      " 10  Domestic              bool   \n",
      " 11  Beat                  int64  \n",
      " 12  District              float64\n",
      " 13  Ward                  float64\n",
      " 14  Community Area        float64\n",
      " 15  FBI Code              object \n",
      " 16  X Coordinate          float64\n",
      " 17  Y Coordinate          object \n",
      " 18  Year                  float64\n",
      " 19  Updated On            object \n",
      " 20  Latitude              object \n",
      " 21  Longitude             float64\n",
      " 22  Location              object \n",
      "dtypes: bool(2), float64(6), int64(3), object(12)\n",
      "memory usage: 1.3+ GB\n"
     ]
    }
   ],
   "source": [
    "data.info()"
   ]
  },
  {
   "cell_type": "code",
   "execution_count": 70,
   "id": "a904bbfd",
   "metadata": {},
   "outputs": [
    {
     "data": {
      "text/plain": [
       "Unnamed: 0                   0\n",
       "ID                           0\n",
       "Case Number                  7\n",
       "Date                         0\n",
       "Block                        0\n",
       "IUCR                         0\n",
       "Primary Type                 0\n",
       "Description                  0\n",
       "Location Description      1990\n",
       "Arrest                       0\n",
       "Domestic                     0\n",
       "Beat                         0\n",
       "District                    91\n",
       "Ward                    700224\n",
       "Community Area          702091\n",
       "FBI Code                     0\n",
       "X Coordinate            105573\n",
       "Y Coordinate            105573\n",
       "Year                         0\n",
       "Updated On                   0\n",
       "Latitude                105573\n",
       "Longitude               105574\n",
       "Location                105574\n",
       "dtype: int64"
      ]
     },
     "execution_count": 70,
     "metadata": {},
     "output_type": "execute_result"
    }
   ],
   "source": [
    "data.isnull().sum()"
   ]
  },
  {
   "cell_type": "code",
   "execution_count": 71,
   "id": "4e907f6e",
   "metadata": {},
   "outputs": [
    {
     "data": {
      "text/plain": [
       "Index(['Unnamed: 0', 'ID', 'Case Number', 'Date', 'Block', 'IUCR',\n",
       "       'Primary Type', 'Description', 'Location Description', 'Arrest',\n",
       "       'Domestic', 'Beat', 'District', 'Ward', 'Community Area', 'FBI Code',\n",
       "       'X Coordinate', 'Y Coordinate', 'Year', 'Updated On', 'Latitude',\n",
       "       'Longitude', 'Location'],\n",
       "      dtype='object')"
      ]
     },
     "execution_count": 71,
     "metadata": {},
     "output_type": "execute_result"
    }
   ],
   "source": [
    "data.columns"
   ]
  },
  {
   "cell_type": "code",
   "execution_count": 72,
   "id": "c1b8e962",
   "metadata": {},
   "outputs": [],
   "source": [
    "df = data[['ID','Date','Primary Type','Location Description','Arrest','Domestic']]"
   ]
  },
  {
   "cell_type": "code",
   "execution_count": 73,
   "id": "36f48116",
   "metadata": {},
   "outputs": [
    {
     "data": {
      "text/html": [
       "<div>\n",
       "<style scoped>\n",
       "    .dataframe tbody tr th:only-of-type {\n",
       "        vertical-align: middle;\n",
       "    }\n",
       "\n",
       "    .dataframe tbody tr th {\n",
       "        vertical-align: top;\n",
       "    }\n",
       "\n",
       "    .dataframe thead th {\n",
       "        text-align: right;\n",
       "    }\n",
       "</style>\n",
       "<table border=\"1\" class=\"dataframe\">\n",
       "  <thead>\n",
       "    <tr style=\"text-align: right;\">\n",
       "      <th></th>\n",
       "      <th>ID</th>\n",
       "      <th>Date</th>\n",
       "      <th>Primary Type</th>\n",
       "      <th>Location Description</th>\n",
       "      <th>Arrest</th>\n",
       "      <th>Domestic</th>\n",
       "    </tr>\n",
       "  </thead>\n",
       "  <tbody>\n",
       "    <tr>\n",
       "      <th>0</th>\n",
       "      <td>4786321</td>\n",
       "      <td>01/01/2004 12:01:00 AM</td>\n",
       "      <td>THEFT</td>\n",
       "      <td>RESIDENCE</td>\n",
       "      <td>False</td>\n",
       "      <td>False</td>\n",
       "    </tr>\n",
       "    <tr>\n",
       "      <th>1</th>\n",
       "      <td>4676906</td>\n",
       "      <td>03/01/2003 12:00:00 AM</td>\n",
       "      <td>OTHER OFFENSE</td>\n",
       "      <td>RESIDENCE</td>\n",
       "      <td>False</td>\n",
       "      <td>True</td>\n",
       "    </tr>\n",
       "    <tr>\n",
       "      <th>2</th>\n",
       "      <td>4789749</td>\n",
       "      <td>06/20/2004 11:00:00 AM</td>\n",
       "      <td>OFFENSE INVOLVING CHILDREN</td>\n",
       "      <td>RESIDENCE</td>\n",
       "      <td>False</td>\n",
       "      <td>False</td>\n",
       "    </tr>\n",
       "    <tr>\n",
       "      <th>3</th>\n",
       "      <td>4789765</td>\n",
       "      <td>12/30/2004 08:00:00 PM</td>\n",
       "      <td>THEFT</td>\n",
       "      <td>OTHER</td>\n",
       "      <td>False</td>\n",
       "      <td>False</td>\n",
       "    </tr>\n",
       "    <tr>\n",
       "      <th>4</th>\n",
       "      <td>4677901</td>\n",
       "      <td>05/01/2003 01:00:00 AM</td>\n",
       "      <td>THEFT</td>\n",
       "      <td>RESIDENCE</td>\n",
       "      <td>False</td>\n",
       "      <td>False</td>\n",
       "    </tr>\n",
       "  </tbody>\n",
       "</table>\n",
       "</div>"
      ],
      "text/plain": [
       "        ID                    Date                Primary Type  \\\n",
       "0  4786321  01/01/2004 12:01:00 AM                       THEFT   \n",
       "1  4676906  03/01/2003 12:00:00 AM               OTHER OFFENSE   \n",
       "2  4789749  06/20/2004 11:00:00 AM  OFFENSE INVOLVING CHILDREN   \n",
       "3  4789765  12/30/2004 08:00:00 PM                       THEFT   \n",
       "4  4677901  05/01/2003 01:00:00 AM                       THEFT   \n",
       "\n",
       "  Location Description  Arrest  Domestic  \n",
       "0            RESIDENCE   False     False  \n",
       "1            RESIDENCE   False      True  \n",
       "2            RESIDENCE   False     False  \n",
       "3                OTHER   False     False  \n",
       "4            RESIDENCE   False     False  "
      ]
     },
     "execution_count": 73,
     "metadata": {},
     "output_type": "execute_result"
    }
   ],
   "source": [
    "df.head()"
   ]
  },
  {
   "cell_type": "code",
   "execution_count": 74,
   "id": "007350f5",
   "metadata": {},
   "outputs": [
    {
     "data": {
      "text/plain": [
       "ID                         0\n",
       "Date                       0\n",
       "Primary Type               0\n",
       "Location Description    1990\n",
       "Arrest                     0\n",
       "Domestic                   0\n",
       "dtype: int64"
      ]
     },
     "execution_count": 74,
     "metadata": {},
     "output_type": "execute_result"
    }
   ],
   "source": [
    "df.isnull().sum()"
   ]
  },
  {
   "cell_type": "code",
   "execution_count": 75,
   "id": "e88f5a37",
   "metadata": {},
   "outputs": [],
   "source": [
    "df = df.dropna()"
   ]
  },
  {
   "cell_type": "code",
   "execution_count": 76,
   "id": "a91f6576",
   "metadata": {},
   "outputs": [
    {
     "name": "stdout",
     "output_type": "stream",
     "text": [
      "<class 'pandas.core.frame.DataFrame'>\n",
      "Int64Index: 7939292 entries, 0 to 1456713\n",
      "Data columns (total 6 columns):\n",
      " #   Column                Dtype \n",
      "---  ------                ----- \n",
      " 0   ID                    int64 \n",
      " 1   Date                  object\n",
      " 2   Primary Type          object\n",
      " 3   Location Description  object\n",
      " 4   Arrest                bool  \n",
      " 5   Domestic              bool  \n",
      "dtypes: bool(2), int64(1), object(3)\n",
      "memory usage: 318.0+ MB\n"
     ]
    }
   ],
   "source": [
    "df.info()"
   ]
  },
  {
   "cell_type": "code",
   "execution_count": 77,
   "id": "9510ecc1",
   "metadata": {},
   "outputs": [],
   "source": [
    "df.Date = pd.to_datetime(df.Date,format = '%m/%d/%Y %I:%M:%S %p')"
   ]
  },
  {
   "cell_type": "code",
   "execution_count": 78,
   "id": "e9df3a81",
   "metadata": {},
   "outputs": [
    {
     "name": "stdout",
     "output_type": "stream",
     "text": [
      "<class 'pandas.core.frame.DataFrame'>\n",
      "Int64Index: 7939292 entries, 0 to 1456713\n",
      "Data columns (total 6 columns):\n",
      " #   Column                Dtype         \n",
      "---  ------                -----         \n",
      " 0   ID                    int64         \n",
      " 1   Date                  datetime64[ns]\n",
      " 2   Primary Type          object        \n",
      " 3   Location Description  object        \n",
      " 4   Arrest                bool          \n",
      " 5   Domestic              bool          \n",
      "dtypes: bool(2), datetime64[ns](1), int64(1), object(2)\n",
      "memory usage: 318.0+ MB\n"
     ]
    }
   ],
   "source": [
    "df.info()"
   ]
  },
  {
   "cell_type": "code",
   "execution_count": 79,
   "id": "c3d85a9d",
   "metadata": {},
   "outputs": [
    {
     "data": {
      "text/plain": [
       "THEFT                  1639788\n",
       "BATTERY                1442711\n",
       "CRIMINAL DAMAGE         922993\n",
       "NARCOTICS               885429\n",
       "OTHER OFFENSE           491920\n",
       "ASSAULT                 481658\n",
       "BURGLARY                470953\n",
       "MOTOR VEHICLE THEFT     370547\n",
       "ROBBERY                 300449\n",
       "DECEPTIVE PRACTICE      279693\n",
       "Name: Primary Type, dtype: int64"
      ]
     },
     "execution_count": 79,
     "metadata": {},
     "output_type": "execute_result"
    }
   ],
   "source": [
    "#top 10 crime types\n",
    "df['Primary Type'].value_counts().head(10)"
   ]
  },
  {
   "cell_type": "code",
   "execution_count": 80,
   "id": "98bff2fe",
   "metadata": {},
   "outputs": [
    {
     "data": {
      "text/plain": [
       "False    1443339\n",
       "True      196449\n",
       "Name: Arrest, dtype: int64"
      ]
     },
     "execution_count": 80,
     "metadata": {},
     "output_type": "execute_result"
    }
   ],
   "source": [
    "df[df['Primary Type']==\"THEFT\"]['Arrest'].value_counts()"
   ]
  },
  {
   "cell_type": "code",
   "execution_count": 81,
   "id": "40f69588",
   "metadata": {},
   "outputs": [
    {
     "data": {
      "text/plain": [
       "STREET                            2101842\n",
       "RESIDENCE                         1341749\n",
       "SIDEWALK                           815595\n",
       "APARTMENT                          812512\n",
       "OTHER                              294286\n",
       "PARKING LOT/GARAGE(NON.RESID.)     225454\n",
       "ALLEY                              180155\n",
       "SCHOOL, PUBLIC, BUILDING           173750\n",
       "RESIDENCE-GARAGE                   158550\n",
       "RESIDENCE PORCH/HALLWAY            138492\n",
       "Name: Location Description, dtype: int64"
      ]
     },
     "execution_count": 81,
     "metadata": {},
     "output_type": "execute_result"
    }
   ],
   "source": [
    "df['Location Description'].value_counts().head(10)"
   ]
  },
  {
   "cell_type": "code",
   "execution_count": 82,
   "id": "013e1daf",
   "metadata": {},
   "outputs": [
    {
     "data": {
      "text/plain": [
       "False    1492500\n",
       "True      609342\n",
       "Name: Arrest, dtype: int64"
      ]
     },
     "execution_count": 82,
     "metadata": {},
     "output_type": "execute_result"
    }
   ],
   "source": [
    "df[df['Location Description']==\"STREET\"]['Arrest'].value_counts()"
   ]
  },
  {
   "cell_type": "code",
   "execution_count": 83,
   "id": "5d39aa8e",
   "metadata": {},
   "outputs": [],
   "source": [
    "df.index = pd.DatetimeIndex(df.Date)"
   ]
  },
  {
   "cell_type": "code",
   "execution_count": 84,
   "id": "08845c9c",
   "metadata": {},
   "outputs": [
    {
     "data": {
      "text/html": [
       "<div>\n",
       "<style scoped>\n",
       "    .dataframe tbody tr th:only-of-type {\n",
       "        vertical-align: middle;\n",
       "    }\n",
       "\n",
       "    .dataframe tbody tr th {\n",
       "        vertical-align: top;\n",
       "    }\n",
       "\n",
       "    .dataframe thead th {\n",
       "        text-align: right;\n",
       "    }\n",
       "</style>\n",
       "<table border=\"1\" class=\"dataframe\">\n",
       "  <thead>\n",
       "    <tr style=\"text-align: right;\">\n",
       "      <th></th>\n",
       "      <th>ID</th>\n",
       "      <th>Date</th>\n",
       "      <th>Primary Type</th>\n",
       "      <th>Location Description</th>\n",
       "      <th>Arrest</th>\n",
       "      <th>Domestic</th>\n",
       "    </tr>\n",
       "    <tr>\n",
       "      <th>Date</th>\n",
       "      <th></th>\n",
       "      <th></th>\n",
       "      <th></th>\n",
       "      <th></th>\n",
       "      <th></th>\n",
       "      <th></th>\n",
       "    </tr>\n",
       "  </thead>\n",
       "  <tbody>\n",
       "    <tr>\n",
       "      <th>2004-01-01 00:01:00</th>\n",
       "      <td>4786321</td>\n",
       "      <td>2004-01-01 00:01:00</td>\n",
       "      <td>THEFT</td>\n",
       "      <td>RESIDENCE</td>\n",
       "      <td>False</td>\n",
       "      <td>False</td>\n",
       "    </tr>\n",
       "    <tr>\n",
       "      <th>2003-03-01 00:00:00</th>\n",
       "      <td>4676906</td>\n",
       "      <td>2003-03-01 00:00:00</td>\n",
       "      <td>OTHER OFFENSE</td>\n",
       "      <td>RESIDENCE</td>\n",
       "      <td>False</td>\n",
       "      <td>True</td>\n",
       "    </tr>\n",
       "    <tr>\n",
       "      <th>2004-06-20 11:00:00</th>\n",
       "      <td>4789749</td>\n",
       "      <td>2004-06-20 11:00:00</td>\n",
       "      <td>OFFENSE INVOLVING CHILDREN</td>\n",
       "      <td>RESIDENCE</td>\n",
       "      <td>False</td>\n",
       "      <td>False</td>\n",
       "    </tr>\n",
       "    <tr>\n",
       "      <th>2004-12-30 20:00:00</th>\n",
       "      <td>4789765</td>\n",
       "      <td>2004-12-30 20:00:00</td>\n",
       "      <td>THEFT</td>\n",
       "      <td>OTHER</td>\n",
       "      <td>False</td>\n",
       "      <td>False</td>\n",
       "    </tr>\n",
       "    <tr>\n",
       "      <th>2003-05-01 01:00:00</th>\n",
       "      <td>4677901</td>\n",
       "      <td>2003-05-01 01:00:00</td>\n",
       "      <td>THEFT</td>\n",
       "      <td>RESIDENCE</td>\n",
       "      <td>False</td>\n",
       "      <td>False</td>\n",
       "    </tr>\n",
       "  </tbody>\n",
       "</table>\n",
       "</div>"
      ],
      "text/plain": [
       "                          ID                Date                Primary Type  \\\n",
       "Date                                                                           \n",
       "2004-01-01 00:01:00  4786321 2004-01-01 00:01:00                       THEFT   \n",
       "2003-03-01 00:00:00  4676906 2003-03-01 00:00:00               OTHER OFFENSE   \n",
       "2004-06-20 11:00:00  4789749 2004-06-20 11:00:00  OFFENSE INVOLVING CHILDREN   \n",
       "2004-12-30 20:00:00  4789765 2004-12-30 20:00:00                       THEFT   \n",
       "2003-05-01 01:00:00  4677901 2003-05-01 01:00:00                       THEFT   \n",
       "\n",
       "                    Location Description  Arrest  Domestic  \n",
       "Date                                                        \n",
       "2004-01-01 00:01:00            RESIDENCE   False     False  \n",
       "2003-03-01 00:00:00            RESIDENCE   False      True  \n",
       "2004-06-20 11:00:00            RESIDENCE   False     False  \n",
       "2004-12-30 20:00:00                OTHER   False     False  \n",
       "2003-05-01 01:00:00            RESIDENCE   False     False  "
      ]
     },
     "execution_count": 84,
     "metadata": {},
     "output_type": "execute_result"
    }
   ],
   "source": [
    "df.head()"
   ]
  },
  {
   "cell_type": "code",
   "execution_count": 85,
   "id": "eb0bd7dc",
   "metadata": {},
   "outputs": [
    {
     "data": {
      "text/plain": [
       "Text(0, 0.5, 'Number of Crimes')"
      ]
     },
     "execution_count": 85,
     "metadata": {},
     "output_type": "execute_result"
    },
    {
     "data": {
      "image/png": "[encoded data removed]",
      "text/plain": [
       "<Figure size 432x288 with 1 Axes>"
      ]
     },
     "metadata": {
      "needs_background": "light"
     },
     "output_type": "display_data"
    }
   ],
   "source": [
    "plt.plot(df.resample('Y').size())\n",
    "plt.title(\"Crime Count Per Year\")\n",
    "plt.xlabel(\"Years\")\n",
    "plt.ylabel(\"Number of Crimes\")"
   ]
  },
  {
   "cell_type": "code",
   "execution_count": 86,
   "id": "b5a8261c",
   "metadata": {},
   "outputs": [
    {
     "data": {
      "text/plain": [
       "Text(0, 0.5, 'Number of Crimes')"
      ]
     },
     "execution_count": 86,
     "metadata": {},
     "output_type": "execute_result"
    },
    {
     "data": {
      "image/png": "[encoded data removed]",
      "text/plain": [
       "<Figure size 432x288 with 1 Axes>"
      ]
     },
     "metadata": {
      "needs_background": "light"
     },
     "output_type": "display_data"
    }
   ],
   "source": [
    "plt.plot(df.resample('M').size())\n",
    "plt.title(\"Crime Count Per Year\")\n",
    "plt.xlabel(\"Years\")\n",
    "plt.ylabel(\"Number of Crimes\")"
   ]
  },
  {
   "cell_type": "code",
   "execution_count": 87,
   "id": "1f19d4b5",
   "metadata": {},
   "outputs": [],
   "source": [
    "# preparing the data\n",
    "df_arima = pd.DataFrame(df.resample('M').size().reset_index())"
   ]
  },
  {
   "cell_type": "code",
   "execution_count": 88,
   "id": "a03590aa",
   "metadata": {},
   "outputs": [],
   "source": [
    "df_arima.columns =['Date','Crime Count']"
   ]
  },
  {
   "cell_type": "code",
   "execution_count": 89,
   "id": "29cf0af4",
   "metadata": {},
   "outputs": [
    {
     "data": {
      "text/html": [
       "<div>\n",
       "<style scoped>\n",
       "    .dataframe tbody tr th:only-of-type {\n",
       "        vertical-align: middle;\n",
       "    }\n",
       "\n",
       "    .dataframe tbody tr th {\n",
       "        vertical-align: top;\n",
       "    }\n",
       "\n",
       "    .dataframe thead th {\n",
       "        text-align: right;\n",
       "    }\n",
       "</style>\n",
       "<table border=\"1\" class=\"dataframe\">\n",
       "  <thead>\n",
       "    <tr style=\"text-align: right;\">\n",
       "      <th></th>\n",
       "      <th>Date</th>\n",
       "      <th>Crime Count</th>\n",
       "    </tr>\n",
       "  </thead>\n",
       "  <tbody>\n",
       "    <tr>\n",
       "      <th>188</th>\n",
       "      <td>2016-09-30</td>\n",
       "      <td>23176</td>\n",
       "    </tr>\n",
       "    <tr>\n",
       "      <th>189</th>\n",
       "      <td>2016-10-31</td>\n",
       "      <td>23243</td>\n",
       "    </tr>\n",
       "    <tr>\n",
       "      <th>190</th>\n",
       "      <td>2016-11-30</td>\n",
       "      <td>21077</td>\n",
       "    </tr>\n",
       "    <tr>\n",
       "      <th>191</th>\n",
       "      <td>2016-12-31</td>\n",
       "      <td>19517</td>\n",
       "    </tr>\n",
       "    <tr>\n",
       "      <th>192</th>\n",
       "      <td>2017-01-31</td>\n",
       "      <td>11329</td>\n",
       "    </tr>\n",
       "  </tbody>\n",
       "</table>\n",
       "</div>"
      ],
      "text/plain": [
       "          Date  Crime Count\n",
       "188 2016-09-30        23176\n",
       "189 2016-10-31        23243\n",
       "190 2016-11-30        21077\n",
       "191 2016-12-31        19517\n",
       "192 2017-01-31        11329"
      ]
     },
     "execution_count": 89,
     "metadata": {},
     "output_type": "execute_result"
    }
   ],
   "source": [
    "df_arima.tail()"
   ]
  },
  {
   "cell_type": "code",
   "execution_count": null,
   "id": "33dc5c27",
   "metadata": {},
   "outputs": [],
   "source": []
  },
  {
   "cell_type": "code",
   "execution_count": 90,
   "id": "8320f697",
   "metadata": {},
   "outputs": [],
   "source": [
    "df_fb = df_arima.copy()"
   ]
  },
  {
   "cell_type": "code",
   "execution_count": 91,
   "id": "35d47e41",
   "metadata": {},
   "outputs": [],
   "source": [
    "df_fb=df_fb.rename(columns={'Date':'ds','Crime Count':'y'})"
   ]
  },
  {
   "cell_type": "code",
   "execution_count": 92,
   "id": "d73a4f3e",
   "metadata": {},
   "outputs": [
    {
     "data": {
      "text/html": [
       "<div>\n",
       "<style scoped>\n",
       "    .dataframe tbody tr th:only-of-type {\n",
       "        vertical-align: middle;\n",
       "    }\n",
       "\n",
       "    .dataframe tbody tr th {\n",
       "        vertical-align: top;\n",
       "    }\n",
       "\n",
       "    .dataframe thead th {\n",
       "        text-align: right;\n",
       "    }\n",
       "</style>\n",
       "<table border=\"1\" class=\"dataframe\">\n",
       "  <thead>\n",
       "    <tr style=\"text-align: right;\">\n",
       "      <th></th>\n",
       "      <th>ds</th>\n",
       "      <th>y</th>\n",
       "    </tr>\n",
       "  </thead>\n",
       "  <tbody>\n",
       "    <tr>\n",
       "      <th>0</th>\n",
       "      <td>2001-01-31</td>\n",
       "      <td>74995</td>\n",
       "    </tr>\n",
       "    <tr>\n",
       "      <th>1</th>\n",
       "      <td>2001-02-28</td>\n",
       "      <td>66288</td>\n",
       "    </tr>\n",
       "    <tr>\n",
       "      <th>2</th>\n",
       "      <td>2001-03-31</td>\n",
       "      <td>53120</td>\n",
       "    </tr>\n",
       "    <tr>\n",
       "      <th>3</th>\n",
       "      <td>2001-04-30</td>\n",
       "      <td>40166</td>\n",
       "    </tr>\n",
       "    <tr>\n",
       "      <th>4</th>\n",
       "      <td>2001-05-31</td>\n",
       "      <td>41876</td>\n",
       "    </tr>\n",
       "    <tr>\n",
       "      <th>...</th>\n",
       "      <td>...</td>\n",
       "      <td>...</td>\n",
       "    </tr>\n",
       "    <tr>\n",
       "      <th>188</th>\n",
       "      <td>2016-09-30</td>\n",
       "      <td>23176</td>\n",
       "    </tr>\n",
       "    <tr>\n",
       "      <th>189</th>\n",
       "      <td>2016-10-31</td>\n",
       "      <td>23243</td>\n",
       "    </tr>\n",
       "    <tr>\n",
       "      <th>190</th>\n",
       "      <td>2016-11-30</td>\n",
       "      <td>21077</td>\n",
       "    </tr>\n",
       "    <tr>\n",
       "      <th>191</th>\n",
       "      <td>2016-12-31</td>\n",
       "      <td>19517</td>\n",
       "    </tr>\n",
       "    <tr>\n",
       "      <th>192</th>\n",
       "      <td>2017-01-31</td>\n",
       "      <td>11329</td>\n",
       "    </tr>\n",
       "  </tbody>\n",
       "</table>\n",
       "<p>193 rows × 2 columns</p>\n",
       "</div>"
      ],
      "text/plain": [
       "            ds      y\n",
       "0   2001-01-31  74995\n",
       "1   2001-02-28  66288\n",
       "2   2001-03-31  53120\n",
       "3   2001-04-30  40166\n",
       "4   2001-05-31  41876\n",
       "..         ...    ...\n",
       "188 2016-09-30  23176\n",
       "189 2016-10-31  23243\n",
       "190 2016-11-30  21077\n",
       "191 2016-12-31  19517\n",
       "192 2017-01-31  11329\n",
       "\n",
       "[193 rows x 2 columns]"
      ]
     },
     "execution_count": 92,
     "metadata": {},
     "output_type": "execute_result"
    }
   ],
   "source": [
    "df_fb"
   ]
  },
  {
   "cell_type": "markdown",
   "id": "2bf693bf",
   "metadata": {},
   "source": [
    "## Prophet Model"
   ]
  },
  {
   "cell_type": "code",
   "execution_count": 93,
   "id": "1ec4364f",
   "metadata": {},
   "outputs": [],
   "source": [
    "# import cmdstanpy\n",
    "# cmdstanpy.install_cmdstan()\n",
    "# cmdstanpy.install_cmdstan(compiler=True)"
   ]
  },
  {
   "cell_type": "code",
   "execution_count": 94,
   "id": "af72cc48",
   "metadata": {},
   "outputs": [],
   "source": [
    "# m = Prophet()\n",
    "# m.fit(df_fb)"
   ]
  },
  {
   "cell_type": "code",
   "execution_count": 95,
   "id": "706a67ac",
   "metadata": {},
   "outputs": [],
   "source": [
    "# pred=m.make_future_dataframe(periods=24,freq='M')\n",
    "# forcast = m.predict(pred)"
   ]
  },
  {
   "cell_type": "code",
   "execution_count": 96,
   "id": "cd5e4304",
   "metadata": {},
   "outputs": [],
   "source": [
    "# forcast"
   ]
  },
  {
   "cell_type": "code",
   "execution_count": 97,
   "id": "5d2721fc",
   "metadata": {},
   "outputs": [],
   "source": [
    "# m.plot(forcast,xlabel=\"Date\",ylabel=\"Crime Rate\")"
   ]
  },
  {
   "cell_type": "code",
   "execution_count": 98,
   "id": "5de06be3",
   "metadata": {},
   "outputs": [],
   "source": [
    "# import json\n",
    "# from prophet.serialize import model_to_json, model_from_json\n",
    "\n",
    "# with open('fbprophet_model.json', 'w') as fout:\n",
    "#     json.dump(model_to_json(m), fout)  # Save model"
   ]
  },
  {
   "cell_type": "code",
   "execution_count": 99,
   "id": "141f991a",
   "metadata": {},
   "outputs": [],
   "source": [
    "# with open('fbprophet_model.json', 'r') as fin:\n",
    "#     m1 = model_from_json(json.load(fin))  # Load model"
   ]
  },
  {
   "cell_type": "code",
   "execution_count": 100,
   "id": "62afd11d",
   "metadata": {},
   "outputs": [],
   "source": [
    "# x = int(input(\"Enter Numbers Months to forecast\"))"
   ]
  },
  {
   "cell_type": "code",
   "execution_count": 101,
   "id": "3543f42d",
   "metadata": {},
   "outputs": [],
   "source": [
    "# pred = m1.make_future_dataframe(periods=x ,freq = \"M\")\n",
    "# forcast = m1.predict(pred)"
   ]
  },
  {
   "cell_type": "code",
   "execution_count": 102,
   "id": "e2fae757",
   "metadata": {},
   "outputs": [],
   "source": [
    "# forcast"
   ]
  },
  {
   "cell_type": "code",
   "execution_count": 103,
   "id": "fbe3c950",
   "metadata": {},
   "outputs": [],
   "source": [
    "# figure = m1.plot(forcast, xlabel='Date', ylabel='Crime Rate')"
   ]
  },
  {
   "cell_type": "code",
   "execution_count": 104,
   "id": "6f0c660d",
   "metadata": {},
   "outputs": [],
   "source": [
    "# out=m1.plot_components(forcast,figsize=(10,10))"
   ]
  },
  {
   "cell_type": "code",
   "execution_count": null,
   "id": "b4034461",
   "metadata": {},
   "outputs": [],
   "source": []
  },
  {
   "cell_type": "code",
   "execution_count": null,
   "id": "f33c5327",
   "metadata": {},
   "outputs": [],
   "source": []
  },
  {
   "cell_type": "markdown",
   "id": "37a8d8de",
   "metadata": {},
   "source": [
    "## Arima Model"
   ]
  },
  {
   "cell_type": "code",
   "execution_count": 105,
   "id": "98119e5f",
   "metadata": {},
   "outputs": [],
   "source": [
    "df_arima.index=pd.DatetimeIndex(df_arima.Date)\n",
    "df_arima.drop(['Date'], axis=1,inplace=True)"
   ]
  },
  {
   "cell_type": "code",
   "execution_count": 106,
   "id": "8613fa09",
   "metadata": {},
   "outputs": [
    {
     "name": "stdout",
     "output_type": "stream",
     "text": [
      "Results of Dickey Fuller Test:\n",
      "Test Statistic                  -0.991059\n",
      "p-value                          0.756511\n",
      "#Lags Used                      15.000000\n",
      "Number of Observations Used    177.000000\n",
      "Critical Value (1%)             -3.467845\n",
      "Critical Value (5%)             -2.878012\n",
      "Critical Value (10%)            -2.575551\n",
      "dtype: float64\n"
     ]
    }
   ],
   "source": [
    "#Augmented Dickey–Fuller test:\n",
    "print('Results of Dickey Fuller Test:')\n",
    "dftest = adfuller(df_arima, autolag='AIC')\n",
    "\n",
    "dfoutput = pd.Series(dftest[0:4], index=['Test Statistic','p-value','#Lags Used','Number of Observations Used'])\n",
    "for key,value in dftest[4].items():\n",
    "    dfoutput['Critical Value (%s)'%key] = value\n",
    "    \n",
    "print(dfoutput)"
   ]
  },
  {
   "cell_type": "code",
   "execution_count": 107,
   "id": "bf1772e1",
   "metadata": {},
   "outputs": [],
   "source": [
    "import pmdarima as pm\n",
    "\n",
    "model = pm.auto_arima(df_arima['Crime Count'],m=12)"
   ]
  },
  {
   "cell_type": "code",
   "execution_count": 108,
   "id": "3cdfe542",
   "metadata": {},
   "outputs": [
    {
     "data": {
      "text/html": [
       "<table class=\"simpletable\">\n",
       "<caption>SARIMAX Results</caption>\n",
       "<tr>\n",
       "  <th>Dep. Variable:</th>                   <td>y</td>                <th>  No. Observations:  </th>    <td>193</td>   \n",
       "</tr>\n",
       "<tr>\n",
       "  <th>Model:</th>           <td>SARIMAX(1, 1, 2)x(1, 0, [1], 12)</td> <th>  Log Likelihood     </th> <td>-1937.507</td>\n",
       "</tr>\n",
       "<tr>\n",
       "  <th>Date:</th>                    <td>Mon, 14 Aug 2023</td>         <th>  AIC                </th> <td>3887.013</td> \n",
       "</tr>\n",
       "<tr>\n",
       "  <th>Time:</th>                        <td>21:27:16</td>             <th>  BIC                </th> <td>3906.558</td> \n",
       "</tr>\n",
       "<tr>\n",
       "  <th>Sample:</th>                     <td>01-31-2001</td>            <th>  HQIC               </th> <td>3894.929</td> \n",
       "</tr>\n",
       "<tr>\n",
       "  <th></th>                           <td>- 01-31-2017</td>           <th>                     </th>     <td> </td>    \n",
       "</tr>\n",
       "<tr>\n",
       "  <th>Covariance Type:</th>                <td>opg</td>               <th>                     </th>     <td> </td>    \n",
       "</tr>\n",
       "</table>\n",
       "<table class=\"simpletable\">\n",
       "<tr>\n",
       "      <td></td>        <th>coef</th>     <th>std err</th>      <th>z</th>      <th>P>|z|</th>  <th>[0.025</th>    <th>0.975]</th>  \n",
       "</tr>\n",
       "<tr>\n",
       "  <th>ar.L1</th>    <td>    0.7895</td> <td>    0.101</td> <td>    7.838</td> <td> 0.000</td> <td>    0.592</td> <td>    0.987</td>\n",
       "</tr>\n",
       "<tr>\n",
       "  <th>ma.L1</th>    <td>   -0.7783</td> <td>    0.110</td> <td>   -7.048</td> <td> 0.000</td> <td>   -0.995</td> <td>   -0.562</td>\n",
       "</tr>\n",
       "<tr>\n",
       "  <th>ma.L2</th>    <td>   -0.1241</td> <td>    0.049</td> <td>   -2.527</td> <td> 0.011</td> <td>   -0.220</td> <td>   -0.028</td>\n",
       "</tr>\n",
       "<tr>\n",
       "  <th>ar.S.L12</th> <td>    0.8965</td> <td>    0.066</td> <td>   13.506</td> <td> 0.000</td> <td>    0.766</td> <td>    1.027</td>\n",
       "</tr>\n",
       "<tr>\n",
       "  <th>ma.S.L12</th> <td>   -0.7925</td> <td>    0.098</td> <td>   -8.108</td> <td> 0.000</td> <td>   -0.984</td> <td>   -0.601</td>\n",
       "</tr>\n",
       "<tr>\n",
       "  <th>sigma2</th>   <td> 3.957e+07</td> <td> 2.33e-09</td> <td>  1.7e+16</td> <td> 0.000</td> <td> 3.96e+07</td> <td> 3.96e+07</td>\n",
       "</tr>\n",
       "</table>\n",
       "<table class=\"simpletable\">\n",
       "<tr>\n",
       "  <th>Ljung-Box (L1) (Q):</th>     <td>2.73</td> <th>  Jarque-Bera (JB):  </th> <td>646.57</td>\n",
       "</tr>\n",
       "<tr>\n",
       "  <th>Prob(Q):</th>                <td>0.10</td> <th>  Prob(JB):          </th>  <td>0.00</td> \n",
       "</tr>\n",
       "<tr>\n",
       "  <th>Heteroskedasticity (H):</th> <td>0.08</td> <th>  Skew:              </th>  <td>0.99</td> \n",
       "</tr>\n",
       "<tr>\n",
       "  <th>Prob(H) (two-sided):</th>    <td>0.00</td> <th>  Kurtosis:          </th>  <td>11.77</td>\n",
       "</tr>\n",
       "</table><br/><br/>Warnings:<br/>[1] Covariance matrix calculated using the outer product of gradients (complex-step).<br/>[2] Covariance matrix is singular or near-singular, with condition number 5.66e+31. Standard errors may be unstable."
      ],
      "text/latex": [
       "\\begin{center}\n",
       "\\begin{tabular}{lclc}\n",
       "\\toprule\n",
       "\\textbf{Dep. Variable:}          &                y                 & \\textbf{  No. Observations:  } &    193      \\\\\n",
       "\\textbf{Model:}                  & SARIMAX(1, 1, 2)x(1, 0, [1], 12) & \\textbf{  Log Likelihood     } & -1937.507   \\\\\n",
       "\\textbf{Date:}                   &         Mon, 14 Aug 2023         & \\textbf{  AIC                } &  3887.013   \\\\\n",
       "\\textbf{Time:}                   &             21:27:16             & \\textbf{  BIC                } &  3906.558   \\\\\n",
       "\\textbf{Sample:}                 &            01-31-2001            & \\textbf{  HQIC               } &  3894.929   \\\\\n",
       "\\textbf{}                        &           - 01-31-2017           & \\textbf{                     } &             \\\\\n",
       "\\textbf{Covariance Type:}        &               opg                & \\textbf{                     } &             \\\\\n",
       "\\bottomrule\n",
       "\\end{tabular}\n",
       "\\begin{tabular}{lcccccc}\n",
       "                  & \\textbf{coef} & \\textbf{std err} & \\textbf{z} & \\textbf{P$> |$z$|$} & \\textbf{[0.025} & \\textbf{0.975]}  \\\\\n",
       "\\midrule\n",
       "\\textbf{ar.L1}    &       0.7895  &        0.101     &     7.838  &         0.000        &        0.592    &        0.987     \\\\\n",
       "\\textbf{ma.L1}    &      -0.7783  &        0.110     &    -7.048  &         0.000        &       -0.995    &       -0.562     \\\\\n",
       "\\textbf{ma.L2}    &      -0.1241  &        0.049     &    -2.527  &         0.011        &       -0.220    &       -0.028     \\\\\n",
       "\\textbf{ar.S.L12} &       0.8965  &        0.066     &    13.506  &         0.000        &        0.766    &        1.027     \\\\\n",
       "\\textbf{ma.S.L12} &      -0.7925  &        0.098     &    -8.108  &         0.000        &       -0.984    &       -0.601     \\\\\n",
       "\\textbf{sigma2}   &    3.957e+07  &     2.33e-09     &   1.7e+16  &         0.000        &     3.96e+07    &     3.96e+07     \\\\\n",
       "\\bottomrule\n",
       "\\end{tabular}\n",
       "\\begin{tabular}{lclc}\n",
       "\\textbf{Ljung-Box (L1) (Q):}     & 2.73 & \\textbf{  Jarque-Bera (JB):  } & 646.57  \\\\\n",
       "\\textbf{Prob(Q):}                & 0.10 & \\textbf{  Prob(JB):          } &  0.00   \\\\\n",
       "\\textbf{Heteroskedasticity (H):} & 0.08 & \\textbf{  Skew:              } &  0.99   \\\\\n",
       "\\textbf{Prob(H) (two-sided):}    & 0.00 & \\textbf{  Kurtosis:          } & 11.77   \\\\\n",
       "\\bottomrule\n",
       "\\end{tabular}\n",
       "%\\caption{SARIMAX Results}\n",
       "\\end{center}\n",
       "\n",
       "Warnings: \\newline\n",
       " [1] Covariance matrix calculated using the outer product of gradients (complex-step). \\newline\n",
       " [2] Covariance matrix is singular or near-singular, with condition number 5.66e+31. Standard errors may be unstable."
      ],
      "text/plain": [
       "<class 'statsmodels.iolib.summary.Summary'>\n",
       "\"\"\"\n",
       "                                      SARIMAX Results                                       \n",
       "============================================================================================\n",
       "Dep. Variable:                                    y   No. Observations:                  193\n",
       "Model:             SARIMAX(1, 1, 2)x(1, 0, [1], 12)   Log Likelihood               -1937.507\n",
       "Date:                              Mon, 14 Aug 2023   AIC                           3887.013\n",
       "Time:                                      21:27:16   BIC                           3906.558\n",
       "Sample:                                  01-31-2001   HQIC                          3894.929\n",
       "                                       - 01-31-2017                                         \n",
       "Covariance Type:                                opg                                         \n",
       "==============================================================================\n",
       "                 coef    std err          z      P>|z|      [0.025      0.975]\n",
       "------------------------------------------------------------------------------\n",
       "ar.L1          0.7895      0.101      7.838      0.000       0.592       0.987\n",
       "ma.L1         -0.7783      0.110     -7.048      0.000      -0.995      -0.562\n",
       "ma.L2         -0.1241      0.049     -2.527      0.011      -0.220      -0.028\n",
       "ar.S.L12       0.8965      0.066     13.506      0.000       0.766       1.027\n",
       "ma.S.L12      -0.7925      0.098     -8.108      0.000      -0.984      -0.601\n",
       "sigma2      3.957e+07   2.33e-09    1.7e+16      0.000    3.96e+07    3.96e+07\n",
       "===================================================================================\n",
       "Ljung-Box (L1) (Q):                   2.73   Jarque-Bera (JB):               646.57\n",
       "Prob(Q):                              0.10   Prob(JB):                         0.00\n",
       "Heteroskedasticity (H):               0.08   Skew:                             0.99\n",
       "Prob(H) (two-sided):                  0.00   Kurtosis:                        11.77\n",
       "===================================================================================\n",
       "\n",
       "Warnings:\n",
       "[1] Covariance matrix calculated using the outer product of gradients (complex-step).\n",
       "[2] Covariance matrix is singular or near-singular, with condition number 5.66e+31. Standard errors may be unstable.\n",
       "\"\"\""
      ]
     },
     "execution_count": 108,
     "metadata": {},
     "output_type": "execute_result"
    }
   ],
   "source": [
    "model.summary()"
   ]
  },
  {
   "cell_type": "code",
   "execution_count": 109,
   "id": "8c2ed221",
   "metadata": {},
   "outputs": [],
   "source": [
    "train = df_arima[(df_arima.index.get_level_values(0)<'2016-09-30')]\n",
    "test = df_arima[(df_arima.index.get_level_values(0)>='2016-09-30')]"
   ]
  },
  {
   "cell_type": "code",
   "execution_count": 110,
   "id": "d2171609",
   "metadata": {},
   "outputs": [
    {
     "data": {
      "text/html": [
       "<div>\n",
       "<style scoped>\n",
       "    .dataframe tbody tr th:only-of-type {\n",
       "        vertical-align: middle;\n",
       "    }\n",
       "\n",
       "    .dataframe tbody tr th {\n",
       "        vertical-align: top;\n",
       "    }\n",
       "\n",
       "    .dataframe thead th {\n",
       "        text-align: right;\n",
       "    }\n",
       "</style>\n",
       "<table border=\"1\" class=\"dataframe\">\n",
       "  <thead>\n",
       "    <tr style=\"text-align: right;\">\n",
       "      <th></th>\n",
       "      <th>Crime Count</th>\n",
       "    </tr>\n",
       "    <tr>\n",
       "      <th>Date</th>\n",
       "      <th></th>\n",
       "    </tr>\n",
       "  </thead>\n",
       "  <tbody>\n",
       "    <tr>\n",
       "      <th>2016-09-30</th>\n",
       "      <td>23176</td>\n",
       "    </tr>\n",
       "    <tr>\n",
       "      <th>2016-10-31</th>\n",
       "      <td>23243</td>\n",
       "    </tr>\n",
       "    <tr>\n",
       "      <th>2016-11-30</th>\n",
       "      <td>21077</td>\n",
       "    </tr>\n",
       "    <tr>\n",
       "      <th>2016-12-31</th>\n",
       "      <td>19517</td>\n",
       "    </tr>\n",
       "    <tr>\n",
       "      <th>2017-01-31</th>\n",
       "      <td>11329</td>\n",
       "    </tr>\n",
       "  </tbody>\n",
       "</table>\n",
       "</div>"
      ],
      "text/plain": [
       "            Crime Count\n",
       "Date                   \n",
       "2016-09-30        23176\n",
       "2016-10-31        23243\n",
       "2016-11-30        21077\n",
       "2016-12-31        19517\n",
       "2017-01-31        11329"
      ]
     },
     "execution_count": 110,
     "metadata": {},
     "output_type": "execute_result"
    }
   ],
   "source": [
    "test"
   ]
  },
  {
   "cell_type": "code",
   "execution_count": 111,
   "id": "66aaf841",
   "metadata": {},
   "outputs": [
    {
     "data": {
      "text/plain": [
       "(5, 1)"
      ]
     },
     "execution_count": 111,
     "metadata": {},
     "output_type": "execute_result"
    }
   ],
   "source": [
    "test.shape"
   ]
  },
  {
   "cell_type": "code",
   "execution_count": 112,
   "id": "374115e6",
   "metadata": {},
   "outputs": [
    {
     "data": {
      "text/html": [
       "<style>#sk-container-id-1 {color: black;background-color: white;}#sk-container-id-1 pre{padding: 0;}#sk-container-id-1 div.sk-toggleable {background-color: white;}#sk-container-id-1 label.sk-toggleable__label {cursor: pointer;display: block;width: 100%;margin-bottom: 0;padding: 0.3em;box-sizing: border-box;text-align: center;}#sk-container-id-1 label.sk-toggleable__label-arrow:before {content: \"▸\";float: left;margin-right: 0.25em;color: #696969;}#sk-container-id-1 label.sk-toggleable__label-arrow:hover:before {color: black;}#sk-container-id-1 div.sk-estimator:hover label.sk-toggleable__label-arrow:before {color: black;}#sk-container-id-1 div.sk-toggleable__content {max-height: 0;max-width: 0;overflow: hidden;text-align: left;background-color: #f0f8ff;}#sk-container-id-1 div.sk-toggleable__content pre {margin: 0.2em;color: black;border-radius: 0.25em;background-color: #f0f8ff;}#sk-container-id-1 input.sk-toggleable__control:checked~div.sk-toggleable__content {max-height: 200px;max-width: 100%;overflow: auto;}#sk-container-id-1 input.sk-toggleable__control:checked~label.sk-toggleable__label-arrow:before {content: \"▾\";}#sk-container-id-1 div.sk-estimator input.sk-toggleable__control:checked~label.sk-toggleable__label {background-color: #d4ebff;}#sk-container-id-1 div.sk-label input.sk-toggleable__control:checked~label.sk-toggleable__label {background-color: #d4ebff;}#sk-container-id-1 input.sk-hidden--visually {border: 0;clip: rect(1px 1px 1px 1px);clip: rect(1px, 1px, 1px, 1px);height: 1px;margin: -1px;overflow: hidden;padding: 0;position: absolute;width: 1px;}#sk-container-id-1 div.sk-estimator {font-family: monospace;background-color: #f0f8ff;border: 1px dotted black;border-radius: 0.25em;box-sizing: border-box;margin-bottom: 0.5em;}#sk-container-id-1 div.sk-estimator:hover {background-color: #d4ebff;}#sk-container-id-1 div.sk-parallel-item::after {content: \"\";width: 100%;border-bottom: 1px solid gray;flex-grow: 1;}#sk-container-id-1 div.sk-label:hover label.sk-toggleable__label {background-color: #d4ebff;}#sk-container-id-1 div.sk-serial::before {content: \"\";position: absolute;border-left: 1px solid gray;box-sizing: border-box;top: 0;bottom: 0;left: 50%;z-index: 0;}#sk-container-id-1 div.sk-serial {display: flex;flex-direction: column;align-items: center;background-color: white;padding-right: 0.2em;padding-left: 0.2em;position: relative;}#sk-container-id-1 div.sk-item {position: relative;z-index: 1;}#sk-container-id-1 div.sk-parallel {display: flex;align-items: stretch;justify-content: center;background-color: white;position: relative;}#sk-container-id-1 div.sk-item::before, #sk-container-id-1 div.sk-parallel-item::before {content: \"\";position: absolute;border-left: 1px solid gray;box-sizing: border-box;top: 0;bottom: 0;left: 50%;z-index: -1;}#sk-container-id-1 div.sk-parallel-item {display: flex;flex-direction: column;z-index: 1;position: relative;background-color: white;}#sk-container-id-1 div.sk-parallel-item:first-child::after {align-self: flex-end;width: 50%;}#sk-container-id-1 div.sk-parallel-item:last-child::after {align-self: flex-start;width: 50%;}#sk-container-id-1 div.sk-parallel-item:only-child::after {width: 0;}#sk-container-id-1 div.sk-dashed-wrapped {border: 1px dashed gray;margin: 0 0.4em 0.5em 0.4em;box-sizing: border-box;padding-bottom: 0.4em;background-color: white;}#sk-container-id-1 div.sk-label label {font-family: monospace;font-weight: bold;display: inline-block;line-height: 1.2em;}#sk-container-id-1 div.sk-label-container {text-align: center;}#sk-container-id-1 div.sk-container {/* jupyter's `normalize.less` sets `[hidden] { display: none; }` but bootstrap.min.css set `[hidden] { display: none !important; }` so we also need the `!important` here to be able to override the default hidden behavior on the sphinx rendered scikit-learn.org. See: https://github.com/scikit-learn/scikit-learn/issues/21755 */display: inline-block !important;position: relative;}#sk-container-id-1 div.sk-text-repr-fallback {display: none;}</style><div id=\"sk-container-id-1\" class=\"sk-top-container\"><div class=\"sk-text-repr-fallback\"><pre> ARIMA(1,1,2)(1,0,1)[12]          </pre><b>In a Jupyter environment, please rerun this cell to show the HTML representation or trust the notebook. <br />On GitHub, the HTML representation is unable to render, please try loading this page with nbviewer.org.</b></div><div class=\"sk-container\" hidden><div class=\"sk-item\"><div class=\"sk-estimator sk-toggleable\"><input class=\"sk-toggleable__control sk-hidden--visually\" id=\"sk-estimator-id-1\" type=\"checkbox\" checked><label for=\"sk-estimator-id-1\" class=\"sk-toggleable__label sk-toggleable__label-arrow\">ARIMA</label><div class=\"sk-toggleable__content\"><pre> ARIMA(1,1,2)(1,0,1)[12]          </pre></div></div></div></div></div>"
      ],
      "text/plain": [
       "ARIMA(order=(1, 1, 2), scoring_args={}, seasonal_order=(1, 0, 1, 12),\n",
       "      suppress_warnings=True, with_intercept=False)"
      ]
     },
     "execution_count": 112,
     "metadata": {},
     "output_type": "execute_result"
    }
   ],
   "source": [
    "model.fit(train['Crime Count'])"
   ]
  },
  {
   "cell_type": "code",
   "execution_count": 113,
   "id": "62d50342",
   "metadata": {},
   "outputs": [],
   "source": [
    "pred=model.predict(n_periods=5,return_conf_int=True)"
   ]
  },
  {
   "cell_type": "code",
   "execution_count": 114,
   "id": "d0b915ec",
   "metadata": {},
   "outputs": [
    {
     "data": {
      "text/plain": [
       "(2016-09-30    23025.821417\n",
       " 2016-10-31    22935.343808\n",
       " 2016-11-30    20666.083787\n",
       " 2016-12-31    19070.340403\n",
       " 2017-01-31    20087.405398\n",
       " Freq: M, dtype: float64,\n",
       " array([[10588.00746206, 35463.63537125],\n",
       "        [ 5245.15538959, 40625.53222692],\n",
       "        [ -236.20871932, 41568.37629287],\n",
       "        [-4101.0446119 , 42241.72541713],\n",
       "        [-4810.97596392, 44985.78676049]]))"
      ]
     },
     "execution_count": 114,
     "metadata": {},
     "output_type": "execute_result"
    }
   ],
   "source": [
    "pred"
   ]
  },
  {
   "cell_type": "code",
   "execution_count": 115,
   "id": "9899455f",
   "metadata": {},
   "outputs": [],
   "source": [
    "pred_df = pd.DataFrame(pred[0],index=test.index,columns=['Prediction'])"
   ]
  },
  {
   "cell_type": "code",
   "execution_count": 116,
   "id": "39c9d168",
   "metadata": {},
   "outputs": [
    {
     "data": {
      "text/html": [
       "<div>\n",
       "<style scoped>\n",
       "    .dataframe tbody tr th:only-of-type {\n",
       "        vertical-align: middle;\n",
       "    }\n",
       "\n",
       "    .dataframe tbody tr th {\n",
       "        vertical-align: top;\n",
       "    }\n",
       "\n",
       "    .dataframe thead th {\n",
       "        text-align: right;\n",
       "    }\n",
       "</style>\n",
       "<table border=\"1\" class=\"dataframe\">\n",
       "  <thead>\n",
       "    <tr style=\"text-align: right;\">\n",
       "      <th></th>\n",
       "      <th>Prediction</th>\n",
       "    </tr>\n",
       "    <tr>\n",
       "      <th>Date</th>\n",
       "      <th></th>\n",
       "    </tr>\n",
       "  </thead>\n",
       "  <tbody>\n",
       "    <tr>\n",
       "      <th>2016-09-30</th>\n",
       "      <td>23025.821417</td>\n",
       "    </tr>\n",
       "    <tr>\n",
       "      <th>2016-10-31</th>\n",
       "      <td>22935.343808</td>\n",
       "    </tr>\n",
       "    <tr>\n",
       "      <th>2016-11-30</th>\n",
       "      <td>20666.083787</td>\n",
       "    </tr>\n",
       "    <tr>\n",
       "      <th>2016-12-31</th>\n",
       "      <td>19070.340403</td>\n",
       "    </tr>\n",
       "    <tr>\n",
       "      <th>2017-01-31</th>\n",
       "      <td>20087.405398</td>\n",
       "    </tr>\n",
       "  </tbody>\n",
       "</table>\n",
       "</div>"
      ],
      "text/plain": [
       "              Prediction\n",
       "Date                    \n",
       "2016-09-30  23025.821417\n",
       "2016-10-31  22935.343808\n",
       "2016-11-30  20666.083787\n",
       "2016-12-31  19070.340403\n",
       "2017-01-31  20087.405398"
      ]
     },
     "execution_count": 116,
     "metadata": {},
     "output_type": "execute_result"
    }
   ],
   "source": [
    "pred_df"
   ]
  },
  {
   "cell_type": "code",
   "execution_count": null,
   "id": "1ce9c06b",
   "metadata": {},
   "outputs": [],
   "source": []
  },
  {
   "cell_type": "code",
   "execution_count": 117,
   "id": "91e05e29",
   "metadata": {},
   "outputs": [
    {
     "data": {
      "text/plain": [
       "<AxesSubplot:xlabel='Date'>"
      ]
     },
     "execution_count": 117,
     "metadata": {},
     "output_type": "execute_result"
    },
    {
     "data": {
      "image/png": "[encoded data removed]",
      "text/plain": [
       "<Figure size 720x720 with 1 Axes>"
      ]
     },
     "metadata": {
      "needs_background": "light"
     },
     "output_type": "display_data"
    }
   ],
   "source": [
    "pd.concat([df_arima['Crime Count'],pred_df],axis=1).plot(figsize=(10,10))"
   ]
  },
  {
   "cell_type": "code",
   "execution_count": 118,
   "id": "ba3ad8e4",
   "metadata": {},
   "outputs": [],
   "source": [
    "pred1=model.predict(n_periods=15,return_conf_int=True)"
   ]
  },
  {
   "cell_type": "code",
   "execution_count": 119,
   "id": "7d809fa9",
   "metadata": {},
   "outputs": [],
   "source": [
    "pred_range = pd.date_range(start='2016-09-30',periods=15,freq='M')"
   ]
  },
  {
   "cell_type": "code",
   "execution_count": 120,
   "id": "982506d1",
   "metadata": {},
   "outputs": [],
   "source": [
    "pred1_df = pd.DataFrame(pred1[0],index=pred_range,columns=['Prediction'])"
   ]
  },
  {
   "cell_type": "code",
   "execution_count": 121,
   "id": "d8075358",
   "metadata": {},
   "outputs": [
    {
     "data": {
      "text/html": [
       "<div>\n",
       "<style scoped>\n",
       "    .dataframe tbody tr th:only-of-type {\n",
       "        vertical-align: middle;\n",
       "    }\n",
       "\n",
       "    .dataframe tbody tr th {\n",
       "        vertical-align: top;\n",
       "    }\n",
       "\n",
       "    .dataframe thead th {\n",
       "        text-align: right;\n",
       "    }\n",
       "</style>\n",
       "<table border=\"1\" class=\"dataframe\">\n",
       "  <thead>\n",
       "    <tr style=\"text-align: right;\">\n",
       "      <th></th>\n",
       "      <th>Prediction</th>\n",
       "    </tr>\n",
       "  </thead>\n",
       "  <tbody>\n",
       "    <tr>\n",
       "      <th>2016-09-30</th>\n",
       "      <td>23025.821417</td>\n",
       "    </tr>\n",
       "    <tr>\n",
       "      <th>2016-10-31</th>\n",
       "      <td>22935.343808</td>\n",
       "    </tr>\n",
       "    <tr>\n",
       "      <th>2016-11-30</th>\n",
       "      <td>20666.083787</td>\n",
       "    </tr>\n",
       "    <tr>\n",
       "      <th>2016-12-31</th>\n",
       "      <td>19070.340403</td>\n",
       "    </tr>\n",
       "    <tr>\n",
       "      <th>2017-01-31</th>\n",
       "      <td>20087.405398</td>\n",
       "    </tr>\n",
       "    <tr>\n",
       "      <th>2017-02-28</th>\n",
       "      <td>17929.004960</td>\n",
       "    </tr>\n",
       "    <tr>\n",
       "      <th>2017-03-31</th>\n",
       "      <td>20672.580548</td>\n",
       "    </tr>\n",
       "    <tr>\n",
       "      <th>2017-04-30</th>\n",
       "      <td>20786.530426</td>\n",
       "    </tr>\n",
       "    <tr>\n",
       "      <th>2017-05-31</th>\n",
       "      <td>22493.044775</td>\n",
       "    </tr>\n",
       "    <tr>\n",
       "      <th>2017-06-30</th>\n",
       "      <td>22125.400960</td>\n",
       "    </tr>\n",
       "    <tr>\n",
       "      <th>2017-07-31</th>\n",
       "      <td>22625.734958</td>\n",
       "    </tr>\n",
       "    <tr>\n",
       "      <th>2017-08-31</th>\n",
       "      <td>22477.444004</td>\n",
       "    </tr>\n",
       "    <tr>\n",
       "      <th>2017-09-30</th>\n",
       "      <td>21196.282973</td>\n",
       "    </tr>\n",
       "    <tr>\n",
       "      <th>2017-10-31</th>\n",
       "      <td>21227.707655</td>\n",
       "    </tr>\n",
       "    <tr>\n",
       "      <th>2017-11-30</th>\n",
       "      <td>19244.955047</td>\n",
       "    </tr>\n",
       "  </tbody>\n",
       "</table>\n",
       "</div>"
      ],
      "text/plain": [
       "              Prediction\n",
       "2016-09-30  23025.821417\n",
       "2016-10-31  22935.343808\n",
       "2016-11-30  20666.083787\n",
       "2016-12-31  19070.340403\n",
       "2017-01-31  20087.405398\n",
       "2017-02-28  17929.004960\n",
       "2017-03-31  20672.580548\n",
       "2017-04-30  20786.530426\n",
       "2017-05-31  22493.044775\n",
       "2017-06-30  22125.400960\n",
       "2017-07-31  22625.734958\n",
       "2017-08-31  22477.444004\n",
       "2017-09-30  21196.282973\n",
       "2017-10-31  21227.707655\n",
       "2017-11-30  19244.955047"
      ]
     },
     "execution_count": 121,
     "metadata": {},
     "output_type": "execute_result"
    }
   ],
   "source": [
    "pred1_df"
   ]
  },
  {
   "cell_type": "code",
   "execution_count": 122,
   "id": "9df059e6",
   "metadata": {},
   "outputs": [
    {
     "data": {
      "text/plain": [
       "<AxesSubplot:>"
      ]
     },
     "execution_count": 122,
     "metadata": {},
     "output_type": "execute_result"
    },
    {
     "data": {
      "image/png": "[encoded data removed]",
      "text/plain": [
       "<Figure size 720x720 with 1 Axes>"
      ]
     },
     "metadata": {
      "needs_background": "light"
     },
     "output_type": "display_data"
    }
   ],
   "source": [
    "pd.concat([df_arima['Crime Count'],pred1_df],axis=1).plot(figsize=(10,10))"
   ]
  },
  {
   "cell_type": "code",
   "execution_count": 123,
   "id": "06b1f955",
   "metadata": {},
   "outputs": [],
   "source": [
    "lower = pd.Series(pred1[1][:, 0],index =pred_range )\n",
    "upper = pd.Series(pred1[1][:, 1],index =pred_range )"
   ]
  },
  {
   "cell_type": "code",
   "execution_count": 124,
   "id": "3ef690de",
   "metadata": {},
   "outputs": [
    {
     "data": {
      "text/plain": [
       "<matplotlib.collections.PolyCollection at 0x165aa8c8a60>"
      ]
     },
     "execution_count": 124,
     "metadata": {},
     "output_type": "execute_result"
    },
    {
     "data": {
      "image/png": "[encoded data removed]",
      "text/plain": [
       "<Figure size 432x288 with 1 Axes>"
      ]
     },
     "metadata": {
      "needs_background": "light"
     },
     "output_type": "display_data"
    }
   ],
   "source": [
    "plt.plot(df_arima['Crime Count'])\n",
    "plt.plot(pred1_df,color='darkgreen')\n",
    "plt.fill_between(pred_range,lower,upper,color='k',alpha=.15)"
   ]
  },
  {
   "cell_type": "code",
   "execution_count": 125,
   "id": "941a63b3",
   "metadata": {},
   "outputs": [
    {
     "data": {
      "image/png": "[encoded data removed]",
      "text/plain": [
       "<Figure size 720x720 with 4 Axes>"
      ]
     },
     "metadata": {
      "needs_background": "light"
     },
     "output_type": "display_data"
    }
   ],
   "source": [
    "out=model.plot_diagnostics(figsize=(10,10))"
   ]
  },
  {
   "cell_type": "code",
   "execution_count": null,
   "id": "6ac0fcbf",
   "metadata": {},
   "outputs": [],
   "source": []
  }
 ],
 "metadata": {
  "kernelspec": {
   "display_name": "Python 3",
   "language": "python",
   "name": "python3"
  },
  "language_info": {
   "codemirror_mode": {
    "name": "ipython",
    "version": 3
   },
   "file_extension": ".py",
   "mimetype": "text/x-python",
   "name": "python",
   "nbconvert_exporter": "python",
   "pygments_lexer": "ipython3",
   "version": "3.8.8"
  }
 },
 "nbformat": 4,
 "nbformat_minor": 5
}
